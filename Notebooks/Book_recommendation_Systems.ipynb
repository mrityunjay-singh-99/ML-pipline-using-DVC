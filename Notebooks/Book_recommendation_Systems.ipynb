{
 "cells": [
  {
   "cell_type": "code",
   "execution_count": 1,
   "id": "52d45268-25cf-4d28-bbf2-6e8d1e455cfb",
   "metadata": {},
   "outputs": [
    {
     "name": "stdout",
     "output_type": "stream",
     "text": [
      "Dataset URL: https://www.kaggle.com/datasets/arashnic/book-recommendation-dataset\n",
      "License(s): CC0-1.0\n",
      "book-recommendation-dataset.zip: Skipping, found more recently modified local copy (use --force to force download)\n"
     ]
    }
   ],
   "source": [
    "!kaggle datasets download -d arashnic/book-recommendation-dataset"
   ]
  },
  {
   "cell_type": "code",
   "execution_count": 2,
   "id": "71d28c7a-d16e-4ba6-89f1-6badc7b39704",
   "metadata": {},
   "outputs": [],
   "source": [
    "import zipfile\n",
    "\n",
    "#unzip the files\n",
    "with zipfile.ZipFile(\"book-recommendation-dataset.zip\", \"r\") as ref:\n",
    "    ref.extractall(\"Data_Folder\")"
   ]
  },
  {
   "cell_type": "code",
   "execution_count": 3,
   "id": "918b1ece-7760-4cda-9531-9353daf7d961",
   "metadata": {},
   "outputs": [],
   "source": [
    "# import packages and Libarys\n",
    "import pandas as pd \n",
    "import numpy as np \n",
    "import matplotlib.pyplot as plt \n",
    "import seaborn as sns \n",
    "import warnings as w\n",
    "w.filterwarnings('ignore')\n",
    "from sklearn.metrics.pairwise import cosine_similarity"
   ]
  },
  {
   "cell_type": "code",
   "execution_count": 4,
   "id": "22401287-f245-4603-9a91-2886fc73f6f8",
   "metadata": {},
   "outputs": [],
   "source": [
    "books = pd.read_csv('Data_Folder/Books.csv')\n",
    "users = pd.read_csv('Data_Folder/Users.csv')\n",
    "ratings = pd.read_csv('Data_Folder/Ratings.csv')"
   ]
  },
  {
   "cell_type": "markdown",
   "id": "d2e0ea8f-2c9a-41c9-9752-0bdb64a1a799",
   "metadata": {},
   "source": [
    "## Exploratory Data Analysis"
   ]
  },
  {
   "cell_type": "code",
   "execution_count": 6,
   "id": "d33de9a7-0576-4f22-8de6-d4e5f96928f0",
   "metadata": {},
   "outputs": [
    {
     "name": "stdout",
     "output_type": "stream",
     "text": [
      "shape of books  (271360, 8)\n",
      "\n",
      "<class 'pandas.core.frame.DataFrame'>\n",
      "RangeIndex: 271360 entries, 0 to 271359\n",
      "Data columns (total 8 columns):\n",
      " #   Column               Non-Null Count   Dtype \n",
      "---  ------               --------------   ----- \n",
      " 0   ISBN                 271360 non-null  object\n",
      " 1   Book-Title           271360 non-null  object\n",
      " 2   Book-Author          271358 non-null  object\n",
      " 3   Year-Of-Publication  271360 non-null  object\n",
      " 4   Publisher            271358 non-null  object\n",
      " 5   Image-URL-S          271360 non-null  object\n",
      " 6   Image-URL-M          271360 non-null  object\n",
      " 7   Image-URL-L          271357 non-null  object\n",
      "dtypes: object(8)\n",
      "memory usage: 16.6+ MB\n"
     ]
    }
   ],
   "source": [
    "# books \n",
    "print('shape of books ',books.shape)\n",
    "print()\n",
    "books.info()"
   ]
  },
  {
   "cell_type": "code",
   "execution_count": 7,
   "id": "12c2ee9f-a0a0-448a-bb0a-746a0b1c79b8",
   "metadata": {},
   "outputs": [
    {
     "name": "stdout",
     "output_type": "stream",
     "text": [
      "shape of users (278858, 3)\n",
      "\n",
      "<class 'pandas.core.frame.DataFrame'>\n",
      "RangeIndex: 278858 entries, 0 to 278857\n",
      "Data columns (total 3 columns):\n",
      " #   Column    Non-Null Count   Dtype  \n",
      "---  ------    --------------   -----  \n",
      " 0   User-ID   278858 non-null  int64  \n",
      " 1   Location  278858 non-null  object \n",
      " 2   Age       168096 non-null  float64\n",
      "dtypes: float64(1), int64(1), object(1)\n",
      "memory usage: 6.4+ MB\n"
     ]
    }
   ],
   "source": [
    "# user \n",
    "print('shape of users',users.shape)\n",
    "print()\n",
    "users.info()"
   ]
  },
  {
   "cell_type": "code",
   "execution_count": 8,
   "id": "a7766f59-c27d-45c3-a27a-f334ac19ded1",
   "metadata": {},
   "outputs": [
    {
     "name": "stdout",
     "output_type": "stream",
     "text": [
      "shape of rating (1149780, 3)\n",
      "\n",
      "<class 'pandas.core.frame.DataFrame'>\n",
      "RangeIndex: 1149780 entries, 0 to 1149779\n",
      "Data columns (total 3 columns):\n",
      " #   Column       Non-Null Count    Dtype \n",
      "---  ------       --------------    ----- \n",
      " 0   User-ID      1149780 non-null  int64 \n",
      " 1   ISBN         1149780 non-null  object\n",
      " 2   Book-Rating  1149780 non-null  int64 \n",
      "dtypes: int64(2), object(1)\n",
      "memory usage: 26.3+ MB\n"
     ]
    }
   ],
   "source": [
    "# ratings\n",
    "print('shape of rating',ratings.shape)\n",
    "print()\n",
    "ratings.info()"
   ]
  },
  {
   "cell_type": "code",
   "execution_count": 9,
   "id": "a075c85f-e1e1-4cd6-a675-f30dff3831b3",
   "metadata": {},
   "outputs": [
    {
     "data": {
      "text/plain": [
       "<Axes: xlabel='Book-Rating'>"
      ]
     },
     "execution_count": 9,
     "metadata": {},
     "output_type": "execute_result"
    },
    {
     "data": {
      "image/png": "[encoded data removed]",
      "text/plain": [
       "<Figure size 640x480 with 1 Axes>"
      ]
     },
     "metadata": {},
     "output_type": "display_data"
    }
   ],
   "source": [
    "ratings[\"Book-Rating\"].value_counts().plot(kind = \"bar\")"
   ]
  },
  {
   "cell_type": "code",
   "execution_count": null,
   "id": "1ac1da16-2b76-4053-a5bc-660b28f82c88",
   "metadata": {},
   "outputs": [],
   "source": []
  },
  {
   "cell_type": "code",
   "execution_count": 10,
   "id": "14a3af0a-adab-4853-bea0-d3a15e8e3610",
   "metadata": {},
   "outputs": [
    {
     "data": {
      "text/plain": [
       "ISBN                   0\n",
       "Book-Title             0\n",
       "Book-Author            2\n",
       "Year-Of-Publication    0\n",
       "Publisher              2\n",
       "Image-URL-S            0\n",
       "Image-URL-M            0\n",
       "Image-URL-L            3\n",
       "dtype: int64"
      ]
     },
     "execution_count": 10,
     "metadata": {},
     "output_type": "execute_result"
    }
   ],
   "source": [
    "#find missing values in books\n",
    "books.isnull().sum()"
   ]
  },
  {
   "cell_type": "code",
   "execution_count": 11,
   "id": "c2e21c2f-776c-4151-a64f-b70208936e1d",
   "metadata": {},
   "outputs": [],
   "source": [
    "#drop the missing value\n",
    "books.dropna(inplace=True)"
   ]
  },
  {
   "cell_type": "code",
   "execution_count": 12,
   "id": "8d54b124-dbbe-41d0-ab32-c8d92b6ee22c",
   "metadata": {},
   "outputs": [
    {
     "data": {
      "text/plain": [
       "0"
      ]
     },
     "execution_count": 12,
     "metadata": {},
     "output_type": "execute_result"
    }
   ],
   "source": [
    "#duplicate values\n",
    "books.duplicated().sum()"
   ]
  },
  {
   "cell_type": "code",
   "execution_count": 13,
   "id": "d9071559-b7d0-4e8e-ba02-6458eca6f7ab",
   "metadata": {},
   "outputs": [
    {
     "data": {
      "text/plain": [
       "array([2002, 2001, 1999, 2000, 1998, 2003, 1997, 1996, 1995, 1994, 1993,\n",
       "       1992, 1991, 1990, 1989, 1988, 1987, 2004, 1986, '1999', 1985,\n",
       "       '2000', '2002', '1998', '2001', 1984, 0, '1997', '1996', 1983,\n",
       "       '1995', 1982, '1994', '2003', '1993', '1992', '1991', 1981, '1990',\n",
       "       '1989', '1988', 1980, '1987', '1986', 1979, 1978, '1985', 1977,\n",
       "       '1984', '2004', '1983', 1976, '1982', '0', '1981', 1975, '1980',\n",
       "       1974, '1979', 1973, '1978', 1972, '1977', '1976', '1975', 1971,\n",
       "       '1974', 1970, '1973', 1969, '1972', '1971', 1968, '1970', 1966,\n",
       "       1967, 1965, 1964, '1969', 1963, 1960, 1961, 1962, 1959, '1968',\n",
       "       1958, 1957, '1965', 1953, 1955, '1960', 1956, '1961', 1954, '1966',\n",
       "       '1962', '1967', '1963', '1964', 1951, 2005, 1940, '1959', '1956',\n",
       "       1920, '1957', '1955', 1952, 1950, '1958', '2005', '1953', 1942,\n",
       "       1930, 1946, '1952', 1947, 1911, '1911', '1951', '1950', 1949, 1941,\n",
       "       '1940', '1954', 1923, 1939, 1901, 1929, 1938, 1948, 1943, 1945,\n",
       "       '1920', 1937, 1936, 2030, '1947', '2006', '1944', 1935, 1932,\n",
       "       '2030', '1923', '1948', '1942', '1932', '1933', '1945', '1941',\n",
       "       '1900', '1943', '1939', '1922', '1946', 1931, 2010, 1925, '1936',\n",
       "       2020, 1921, 1928, 1902, 1933, '1909', '1949', 2050, '1376', '1926',\n",
       "       '2024', '1938', '1897', '2020', '2011', '1378', '2008', '1919',\n",
       "       1908, '1930', '1931', 2011, 1926, 1904, 1927, 1914, 1934, 1910,\n",
       "       1924, 1900, 2038, 2026, 1944, 1917, 1906, 1806, 2021, '1924',\n",
       "       '2012', '1927', '2037'], dtype=object)"
      ]
     },
     "execution_count": 13,
     "metadata": {},
     "output_type": "execute_result"
    }
   ],
   "source": [
    "books[\"Year-Of-Publication\"].value_counts(\n",
    "    \n",
    ").index.values"
   ]
  },
  {
   "cell_type": "code",
   "execution_count": 14,
   "id": "f9264faf-b886-4a6c-9ea5-dfd4e35ac9f5",
   "metadata": {},
   "outputs": [],
   "source": [
    "# Step 1: Filter out invalid or non-year values\n",
    "valid_years = books['Year-Of-Publication'].astype(str).str.isnumeric()\n",
    "books = books[valid_years]\n",
    "\n",
    "# Step 2: Convert the column data to integers\n",
    "books['Year-Of-Publication'] = books['Year-Of-Publication'].astype(int)\n",
    "\n",
    "# Step 3: Create a new datetime column from the integers representing years\n",
    "books['Publication_Date'] = pd.to_datetime(books['Year-Of-Publication'], format='%Y', errors='coerce')\n",
    "\n",
    "# Drop the old 'Year-Of-Publication' column if you don't need it anymore\n",
    "books.drop(columns=['Year-Of-Publication'], inplace=True)\n",
    "\n",
    "# Display the DataFrame to check the new datetime column\n",
    "books = pd.DataFrame(books)\n"
   ]
  },
  {
   "cell_type": "code",
   "execution_count": 15,
   "id": "23570ed8-ad21-480b-b88c-3892b1e3845d",
   "metadata": {},
   "outputs": [],
   "source": [
    "# Step 4: Create a new column with only the year part as integers\n",
    "books['Year-Of-Publication'] = books['Publication_Date'].dt.year"
   ]
  },
  {
   "cell_type": "code",
   "execution_count": 16,
   "id": "42331634-28e7-4d96-8c88-1fbe27500b9d",
   "metadata": {},
   "outputs": [
    {
     "data": {
      "text/plain": [
       "array([2002., 1999., 2001., 2000., 1998., 1997., 2003., 1996., 1995.,\n",
       "       1994., 1993., 1992., 1991., 1990., 1989., 1988., 1987., 1986.,\n",
       "       2004., 1985., 1984., 1983., 1982., 1981., 1980., 1979., 1978.,\n",
       "       1977., 1976., 1975., 1974., 1973., 1972., 1971., 1970., 1969.,\n",
       "       1968., 1966., 1967., 1965., 1964., 1960., 1961., 1963., 1962.,\n",
       "       1959., 1958., 1957., 1956., 1955., 1953., 1954., 2005., 1951.,\n",
       "       1940., 1952., 1920., 1950., 1911., 1942., 1947., 1946., 1930.,\n",
       "       1949., 1923., 1941., 1939., 1948., 1945., 1943., 1901., 1938.,\n",
       "       2030., 1936., 1929., 1937., 1932., 1944., 1933., 1935., 2006.,\n",
       "       1900., 1931., 2020., 1927., 1921., 1922., 1909., 2011., 1925.,\n",
       "       1926., 2010., 1924., 1902., 2050., 1928., 1904., 2012., 2024.,\n",
       "       1897., 1919., 2008., 1934., 1910., 1806., 2021., 2038., 1906.,\n",
       "       1908., 1914., 1917., 2026., 2037.])"
      ]
     },
     "execution_count": 16,
     "metadata": {},
     "output_type": "execute_result"
    }
   ],
   "source": [
    "books['Year-Of-Publication'].value_counts().index.values"
   ]
  },
  {
   "cell_type": "code",
   "execution_count": 55,
   "id": "0b7aaf26-6f1a-45d2-9990-1d9cc1f0bc7a",
   "metadata": {},
   "outputs": [],
   "source": [
    "# this all the invalid data at this time\n",
    "\n",
    "books = books[(books['Year-Of-Publication'] != 2037)]\n",
    "books = books[(books['Year-Of-Publication'] != 2026)] \n",
    "books = books[(books['Year-Of-Publication'] != 2030)]\n",
    "books = books[(books['Year-Of-Publication'] != 2050)]\n",
    "books = books[(books['Year-Of-Publication'] != 2038)]"
   ]
  },
  {
   "cell_type": "code",
   "execution_count": 57,
   "id": "6fe2460e-2f8d-426b-98a2-2d7950bf3c75",
   "metadata": {},
   "outputs": [
    {
     "data": {
      "image/png": "[encoded data removed]",
      "text/plain": [
       "<Figure size 2000x1000 with 1 Axes>"
      ]
     },
     "metadata": {},
     "output_type": "display_data"
    }
   ],
   "source": [
    "plt.figure(figsize=(20,10))\n",
    "sns.countplot(x=books['Year-Of-Publication']);\n",
    "plt.xticks(rotation=90)\n",
    "plt.show()"
   ]
  },
  {
   "cell_type": "code",
   "execution_count": 61,
   "id": "46ae14f5-51c3-435c-8d11-194ecb83c29d",
   "metadata": {},
   "outputs": [
    {
     "data": {
      "text/plain": [
       "<Axes: xlabel='Publisher'>"
      ]
     },
     "execution_count": 61,
     "metadata": {},
     "output_type": "execute_result"
    },
    {
     "data": {
      "image/png": "[encoded data removed]",
      "text/plain": [
       "<Figure size 640x480 with 1 Axes>"
      ]
     },
     "metadata": {},
     "output_type": "display_data"
    }
   ],
   "source": [
    "#Top ten publisher\n",
    "books[\"Publisher\"].value_counts().head(10).plot(kind = \"bar\")"
   ]
  },
  {
   "cell_type": "code",
   "execution_count": 65,
   "id": "173fc025-13cc-44b7-a66b-46c8ed374090",
   "metadata": {},
   "outputs": [
    {
     "data": {
      "text/plain": [
       "User-ID      0.00\n",
       "Location     0.00\n",
       "Age         39.72\n",
       "dtype: float64"
      ]
     },
     "execution_count": 65,
     "metadata": {},
     "output_type": "execute_result"
    }
   ],
   "source": [
    "# find the null values \n",
    "round(100*\n",
    "(users.isnull().sum()/len(users.index))\n",
    "      ,2)"
   ]
  },
  {
   "cell_type": "code",
   "execution_count": 69,
   "id": "8cb01fc8-852d-4d56-b98f-4400bd3d65f3",
   "metadata": {},
   "outputs": [],
   "source": [
    "# remove the age column\n",
    "users.drop('Age',axis=1,inplace=True)"
   ]
  },
  {
   "cell_type": "code",
   "execution_count": 77,
   "id": "bb181325-a423-4933-8878-d03ef93392fb",
   "metadata": {},
   "outputs": [],
   "source": [
    "users['Location'] = users['Location'].apply(lambda x:x.split(',')[-1])"
   ]
  },
  {
   "cell_type": "code",
   "execution_count": 79,
   "id": "4e0592d6-4096-4842-9f75-5434ce8d369c",
   "metadata": {},
   "outputs": [
    {
     "data": {
      "text/plain": [
       "<Axes: xlabel='Location'>"
      ]
     },
     "execution_count": 79,
     "metadata": {},
     "output_type": "execute_result"
    },
    {
     "data": {
      "image/png": "[encoded data removed]",
      "text/plain": [
       "<Figure size 640x480 with 1 Axes>"
      ]
     },
     "metadata": {},
     "output_type": "display_data"
    }
   ],
   "source": [
    "# top 10 user location \n",
    "users['Location'].value_counts().head(10).plot(kind='bar')"
   ]
  },
  {
   "cell_type": "code",
   "execution_count": 81,
   "id": "deb99d19-73ee-48f9-8211-2e0a5a347ab7",
   "metadata": {},
   "outputs": [
    {
     "data": {
      "text/plain": [
       "User-ID        0\n",
       "ISBN           0\n",
       "Book-Rating    0\n",
       "dtype: int64"
      ]
     },
     "execution_count": 81,
     "metadata": {},
     "output_type": "execute_result"
    }
   ],
   "source": [
    "# null values \n",
    "ratings.isnull().sum()"
   ]
  },
  {
   "cell_type": "code",
   "execution_count": 83,
   "id": "85405ac3-a862-4498-a3ff-a19bb885173c",
   "metadata": {},
   "outputs": [
    {
     "data": {
      "text/plain": [
       "0"
      ]
     },
     "execution_count": 83,
     "metadata": {},
     "output_type": "execute_result"
    }
   ],
   "source": [
    "# duplicate values\n",
    "ratings.duplicated().sum()"
   ]
  },
  {
   "cell_type": "markdown",
   "id": "871344b8-8e51-45c8-8854-120595e72895",
   "metadata": {},
   "source": [
    "## Popularity based recomender system\n",
    "\n",
    "**we will display the Top 50 books with highest average rating but we will consider only those books who have got minimum 250 votes**"
   ]
  },
  {
   "cell_type": "code",
   "execution_count": 108,
   "id": "9a4ca787-912f-4878-930b-28bd4ca5f419",
   "metadata": {},
   "outputs": [
    {
     "data": {
      "text/html": [
       "<div>\n",
       "<style scoped>\n",
       "    .dataframe tbody tr th:only-of-type {\n",
       "        vertical-align: middle;\n",
       "    }\n",
       "\n",
       "    .dataframe tbody tr th {\n",
       "        vertical-align: top;\n",
       "    }\n",
       "\n",
       "    .dataframe thead th {\n",
       "        text-align: right;\n",
       "    }\n",
       "</style>\n",
       "<table border=\"1\" class=\"dataframe\">\n",
       "  <thead>\n",
       "    <tr style=\"text-align: right;\">\n",
       "      <th></th>\n",
       "      <th>User-ID</th>\n",
       "      <th>ISBN</th>\n",
       "      <th>Book-Rating</th>\n",
       "      <th>Book-Title</th>\n",
       "      <th>Book-Author</th>\n",
       "      <th>Publisher</th>\n",
       "      <th>Image-URL-S</th>\n",
       "      <th>Image-URL-M</th>\n",
       "      <th>Image-URL-L</th>\n",
       "      <th>Publication_Date</th>\n",
       "      <th>Year-Of-Publication</th>\n",
       "    </tr>\n",
       "  </thead>\n",
       "  <tbody>\n",
       "    <tr>\n",
       "      <th>0</th>\n",
       "      <td>276725</td>\n",
       "      <td>034545104X</td>\n",
       "      <td>0</td>\n",
       "      <td>Flesh Tones: A Novel</td>\n",
       "      <td>M. J. Rose</td>\n",
       "      <td>Ballantine Books</td>\n",
       "      <td>http://images.amazon.com/images/P/034545104X.0...</td>\n",
       "      <td>http://images.amazon.com/images/P/034545104X.0...</td>\n",
       "      <td>http://images.amazon.com/images/P/034545104X.0...</td>\n",
       "      <td>2002-01-01</td>\n",
       "      <td>2002.0</td>\n",
       "    </tr>\n",
       "    <tr>\n",
       "      <th>1</th>\n",
       "      <td>276726</td>\n",
       "      <td>0155061224</td>\n",
       "      <td>5</td>\n",
       "      <td>Rites of Passage</td>\n",
       "      <td>Judith Rae</td>\n",
       "      <td>Heinle</td>\n",
       "      <td>http://images.amazon.com/images/P/0155061224.0...</td>\n",
       "      <td>http://images.amazon.com/images/P/0155061224.0...</td>\n",
       "      <td>http://images.amazon.com/images/P/0155061224.0...</td>\n",
       "      <td>2001-01-01</td>\n",
       "      <td>2001.0</td>\n",
       "    </tr>\n",
       "  </tbody>\n",
       "</table>\n",
       "</div>"
      ],
      "text/plain": [
       "   User-ID        ISBN  Book-Rating            Book-Title Book-Author  \\\n",
       "0   276725  034545104X            0  Flesh Tones: A Novel  M. J. Rose   \n",
       "1   276726  0155061224            5      Rites of Passage  Judith Rae   \n",
       "\n",
       "          Publisher                                        Image-URL-S  \\\n",
       "0  Ballantine Books  http://images.amazon.com/images/P/034545104X.0...   \n",
       "1            Heinle  http://images.amazon.com/images/P/0155061224.0...   \n",
       "\n",
       "                                         Image-URL-M  \\\n",
       "0  http://images.amazon.com/images/P/034545104X.0...   \n",
       "1  http://images.amazon.com/images/P/0155061224.0...   \n",
       "\n",
       "                                         Image-URL-L Publication_Date  \\\n",
       "0  http://images.amazon.com/images/P/034545104X.0...       2002-01-01   \n",
       "1  http://images.amazon.com/images/P/0155061224.0...       2001-01-01   \n",
       "\n",
       "   Year-Of-Publication  \n",
       "0               2002.0  \n",
       "1               2001.0  "
      ]
     },
     "execution_count": 108,
     "metadata": {},
     "output_type": "execute_result"
    }
   ],
   "source": [
    "# merge the data ratings and books based on 'ISBN' columns\n",
    "\n",
    "rating_books_name = ratings.merge(books,on='ISBN')\n",
    "\n",
    "rating_books_name.head(2\n",
    "                      )"
   ]
  },
  {
   "cell_type": "code",
   "execution_count": 99,
   "id": "e32a2c5d-e0a2-4bb0-b276-d340c713d51a",
   "metadata": {},
   "outputs": [
    {
     "data": {
      "text/html": [
       "<div>\n",
       "<style scoped>\n",
       "    .dataframe tbody tr th:only-of-type {\n",
       "        vertical-align: middle;\n",
       "    }\n",
       "\n",
       "    .dataframe tbody tr th {\n",
       "        vertical-align: top;\n",
       "    }\n",
       "\n",
       "    .dataframe thead th {\n",
       "        text-align: right;\n",
       "    }\n",
       "</style>\n",
       "<table border=\"1\" class=\"dataframe\">\n",
       "  <thead>\n",
       "    <tr style=\"text-align: right;\">\n",
       "      <th></th>\n",
       "      <th>Book-Title</th>\n",
       "      <th>Totle_number_rating</th>\n",
       "    </tr>\n",
       "  </thead>\n",
       "  <tbody>\n",
       "    <tr>\n",
       "      <th>0</th>\n",
       "      <td>A Light in the Storm: The Civil War Diary of ...</td>\n",
       "      <td>4</td>\n",
       "    </tr>\n",
       "    <tr>\n",
       "      <th>1</th>\n",
       "      <td>Always Have Popsicles</td>\n",
       "      <td>1</td>\n",
       "    </tr>\n",
       "    <tr>\n",
       "      <th>2</th>\n",
       "      <td>Apple Magic (The Collector's series)</td>\n",
       "      <td>1</td>\n",
       "    </tr>\n",
       "    <tr>\n",
       "      <th>3</th>\n",
       "      <td>Ask Lily (Young Women of Faith: Lily Series, ...</td>\n",
       "      <td>1</td>\n",
       "    </tr>\n",
       "    <tr>\n",
       "      <th>4</th>\n",
       "      <td>Beyond IBM: Leadership Marketing and Finance ...</td>\n",
       "      <td>1</td>\n",
       "    </tr>\n",
       "  </tbody>\n",
       "</table>\n",
       "</div>"
      ],
      "text/plain": [
       "                                          Book-Title  Totle_number_rating\n",
       "0   A Light in the Storm: The Civil War Diary of ...                    4\n",
       "1                              Always Have Popsicles                    1\n",
       "2               Apple Magic (The Collector's series)                    1\n",
       "3   Ask Lily (Young Women of Faith: Lily Series, ...                    1\n",
       "4   Beyond IBM: Leadership Marketing and Finance ...                    1"
      ]
     },
     "execution_count": 99,
     "metadata": {},
     "output_type": "execute_result"
    }
   ],
   "source": [
    "# first of all groupby 'Book-Title' and find the totle number(count) of voting \n",
    "numer_rating = rating_books_name.groupby('Book-Title').count()['Book-Rating'].reset_index()\n",
    "numer_rating.rename(columns={'Book-Rating':'Totle_number_rating'},inplace=True)\n",
    "numer_rating.head()"
   ]
  },
  {
   "cell_type": "code",
   "execution_count": 101,
   "id": "233b9684-c940-41ff-899b-7cff7c8f09a1",
   "metadata": {},
   "outputs": [
    {
     "data": {
      "text/html": [
       "<div>\n",
       "<style scoped>\n",
       "    .dataframe tbody tr th:only-of-type {\n",
       "        vertical-align: middle;\n",
       "    }\n",
       "\n",
       "    .dataframe tbody tr th {\n",
       "        vertical-align: top;\n",
       "    }\n",
       "\n",
       "    .dataframe thead th {\n",
       "        text-align: right;\n",
       "    }\n",
       "</style>\n",
       "<table border=\"1\" class=\"dataframe\">\n",
       "  <thead>\n",
       "    <tr style=\"text-align: right;\">\n",
       "      <th></th>\n",
       "      <th>Book-Title</th>\n",
       "      <th>Totle_avg_rating</th>\n",
       "    </tr>\n",
       "  </thead>\n",
       "  <tbody>\n",
       "    <tr>\n",
       "      <th>0</th>\n",
       "      <td>A Light in the Storm: The Civil War Diary of ...</td>\n",
       "      <td>2.25</td>\n",
       "    </tr>\n",
       "    <tr>\n",
       "      <th>1</th>\n",
       "      <td>Always Have Popsicles</td>\n",
       "      <td>0.00</td>\n",
       "    </tr>\n",
       "    <tr>\n",
       "      <th>2</th>\n",
       "      <td>Apple Magic (The Collector's series)</td>\n",
       "      <td>0.00</td>\n",
       "    </tr>\n",
       "    <tr>\n",
       "      <th>3</th>\n",
       "      <td>Ask Lily (Young Women of Faith: Lily Series, ...</td>\n",
       "      <td>8.00</td>\n",
       "    </tr>\n",
       "    <tr>\n",
       "      <th>4</th>\n",
       "      <td>Beyond IBM: Leadership Marketing and Finance ...</td>\n",
       "      <td>0.00</td>\n",
       "    </tr>\n",
       "  </tbody>\n",
       "</table>\n",
       "</div>"
      ],
      "text/plain": [
       "                                          Book-Title  Totle_avg_rating\n",
       "0   A Light in the Storm: The Civil War Diary of ...              2.25\n",
       "1                              Always Have Popsicles              0.00\n",
       "2               Apple Magic (The Collector's series)              0.00\n",
       "3   Ask Lily (Young Women of Faith: Lily Series, ...              8.00\n",
       "4   Beyond IBM: Leadership Marketing and Finance ...              0.00"
      ]
     },
     "execution_count": 101,
     "metadata": {},
     "output_type": "execute_result"
    }
   ],
   "source": [
    "# totle avg-rating\n",
    "avg_rating = rating_books_name.groupby('Book-Title')['Book-Rating'].mean().reset_index()\n",
    "avg_rating.rename(columns={'Book-Rating':'Totle_avg_rating'},inplace=True)\n",
    "avg_rating.head()"
   ]
  },
  {
   "cell_type": "code",
   "execution_count": 114,
   "id": "d267c98b-45f4-46b5-9d44-a5dca8826bed",
   "metadata": {},
   "outputs": [
    {
     "data": {
      "text/html": [
       "<div>\n",
       "<style scoped>\n",
       "    .dataframe tbody tr th:only-of-type {\n",
       "        vertical-align: middle;\n",
       "    }\n",
       "\n",
       "    .dataframe tbody tr th {\n",
       "        vertical-align: top;\n",
       "    }\n",
       "\n",
       "    .dataframe thead th {\n",
       "        text-align: right;\n",
       "    }\n",
       "</style>\n",
       "<table border=\"1\" class=\"dataframe\">\n",
       "  <thead>\n",
       "    <tr style=\"text-align: right;\">\n",
       "      <th></th>\n",
       "      <th>Book-Title</th>\n",
       "      <th>Totle_number_rating</th>\n",
       "      <th>Totle_avg_rating</th>\n",
       "    </tr>\n",
       "  </thead>\n",
       "  <tbody>\n",
       "    <tr>\n",
       "      <th>0</th>\n",
       "      <td>A Light in the Storm: The Civil War Diary of ...</td>\n",
       "      <td>4</td>\n",
       "      <td>2.25</td>\n",
       "    </tr>\n",
       "    <tr>\n",
       "      <th>1</th>\n",
       "      <td>Always Have Popsicles</td>\n",
       "      <td>1</td>\n",
       "      <td>0.00</td>\n",
       "    </tr>\n",
       "    <tr>\n",
       "      <th>2</th>\n",
       "      <td>Apple Magic (The Collector's series)</td>\n",
       "      <td>1</td>\n",
       "      <td>0.00</td>\n",
       "    </tr>\n",
       "    <tr>\n",
       "      <th>3</th>\n",
       "      <td>Ask Lily (Young Women of Faith: Lily Series, ...</td>\n",
       "      <td>1</td>\n",
       "      <td>8.00</td>\n",
       "    </tr>\n",
       "    <tr>\n",
       "      <th>4</th>\n",
       "      <td>Beyond IBM: Leadership Marketing and Finance ...</td>\n",
       "      <td>1</td>\n",
       "      <td>0.00</td>\n",
       "    </tr>\n",
       "  </tbody>\n",
       "</table>\n",
       "</div>"
      ],
      "text/plain": [
       "                                          Book-Title  Totle_number_rating  \\\n",
       "0   A Light in the Storm: The Civil War Diary of ...                    4   \n",
       "1                              Always Have Popsicles                    1   \n",
       "2               Apple Magic (The Collector's series)                    1   \n",
       "3   Ask Lily (Young Women of Faith: Lily Series, ...                    1   \n",
       "4   Beyond IBM: Leadership Marketing and Finance ...                    1   \n",
       "\n",
       "   Totle_avg_rating  \n",
       "0              2.25  \n",
       "1              0.00  \n",
       "2              0.00  \n",
       "3              8.00  \n",
       "4              0.00  "
      ]
     },
     "execution_count": 114,
     "metadata": {},
     "output_type": "execute_result"
    }
   ],
   "source": [
    "# merge the 'avg_rating' and 'number_rating' base on 'Book-Title'\n",
    "\n",
    "popular_df = numer_rating.merge(avg_rating,on='Book-Title')\n",
    "popular_df.head()"
   ]
  },
  {
   "cell_type": "markdown",
   "id": "f0b6c77b-0869-40a6-8f1d-abde5036f06c",
   "metadata": {},
   "source": [
    "**highest average rating but we will consider only those books who have got minimum 250 votes**"
   ]
  },
  {
   "cell_type": "code",
   "execution_count": 129,
   "id": "104cdb85-60b3-406c-bde6-fa3b76133fb5",
   "metadata": {},
   "outputs": [
    {
     "data": {
      "text/html": [
       "<div>\n",
       "<style scoped>\n",
       "    .dataframe tbody tr th:only-of-type {\n",
       "        vertical-align: middle;\n",
       "    }\n",
       "\n",
       "    .dataframe tbody tr th {\n",
       "        vertical-align: top;\n",
       "    }\n",
       "\n",
       "    .dataframe thead th {\n",
       "        text-align: right;\n",
       "    }\n",
       "</style>\n",
       "<table border=\"1\" class=\"dataframe\">\n",
       "  <thead>\n",
       "    <tr style=\"text-align: right;\">\n",
       "      <th></th>\n",
       "      <th>Book-Title</th>\n",
       "      <th>Totle_number_rating</th>\n",
       "      <th>Totle_avg_rating</th>\n",
       "    </tr>\n",
       "  </thead>\n",
       "  <tbody>\n",
       "    <tr>\n",
       "      <th>80425</th>\n",
       "      <td>Harry Potter and the Prisoner of Azkaban (Book 3)</td>\n",
       "      <td>428</td>\n",
       "      <td>5.852804</td>\n",
       "    </tr>\n",
       "    <tr>\n",
       "      <th>80413</th>\n",
       "      <td>Harry Potter and the Goblet of Fire (Book 4)</td>\n",
       "      <td>387</td>\n",
       "      <td>5.824289</td>\n",
       "    </tr>\n",
       "    <tr>\n",
       "      <th>80432</th>\n",
       "      <td>Harry Potter and the Sorcerer's Stone (Book 1)</td>\n",
       "      <td>278</td>\n",
       "      <td>5.737410</td>\n",
       "    </tr>\n",
       "    <tr>\n",
       "      <th>80417</th>\n",
       "      <td>Harry Potter and the Order of the Phoenix (Boo...</td>\n",
       "      <td>347</td>\n",
       "      <td>5.501441</td>\n",
       "    </tr>\n",
       "    <tr>\n",
       "      <th>80405</th>\n",
       "      <td>Harry Potter and the Chamber of Secrets (Book 2)</td>\n",
       "      <td>556</td>\n",
       "      <td>5.183453</td>\n",
       "    </tr>\n",
       "  </tbody>\n",
       "</table>\n",
       "</div>"
      ],
      "text/plain": [
       "                                              Book-Title  Totle_number_rating  \\\n",
       "80425  Harry Potter and the Prisoner of Azkaban (Book 3)                  428   \n",
       "80413       Harry Potter and the Goblet of Fire (Book 4)                  387   \n",
       "80432     Harry Potter and the Sorcerer's Stone (Book 1)                  278   \n",
       "80417  Harry Potter and the Order of the Phoenix (Boo...                  347   \n",
       "80405   Harry Potter and the Chamber of Secrets (Book 2)                  556   \n",
       "\n",
       "       Totle_avg_rating  \n",
       "80425          5.852804  \n",
       "80413          5.824289  \n",
       "80432          5.737410  \n",
       "80417          5.501441  \n",
       "80405          5.183453  "
      ]
     },
     "execution_count": 129,
     "metadata": {},
     "output_type": "execute_result"
    }
   ],
   "source": [
    "popular_df = popular_df[popular_df['Totle_number_rating'] >= 250].sort_values('Totle_avg_rating',ascending=False).head(50)\n",
    "popular_df.head()"
   ]
  },
  {
   "cell_type": "code",
   "execution_count": 135,
   "id": "71b3533d-f4a8-4042-9ab0-c66b56d731de",
   "metadata": {},
   "outputs": [
    {
     "data": {
      "text/html": [
       "<div>\n",
       "<style scoped>\n",
       "    .dataframe tbody tr th:only-of-type {\n",
       "        vertical-align: middle;\n",
       "    }\n",
       "\n",
       "    .dataframe tbody tr th {\n",
       "        vertical-align: top;\n",
       "    }\n",
       "\n",
       "    .dataframe thead th {\n",
       "        text-align: right;\n",
       "    }\n",
       "</style>\n",
       "<table border=\"1\" class=\"dataframe\">\n",
       "  <thead>\n",
       "    <tr style=\"text-align: right;\">\n",
       "      <th></th>\n",
       "      <th>Book-Title</th>\n",
       "      <th>Book-Author</th>\n",
       "      <th>Image-URL-M</th>\n",
       "      <th>Totle_number_rating</th>\n",
       "      <th>Totle_avg_rating</th>\n",
       "    </tr>\n",
       "  </thead>\n",
       "  <tbody>\n",
       "    <tr>\n",
       "      <th>0</th>\n",
       "      <td>Harry Potter and the Prisoner of Azkaban (Book 3)</td>\n",
       "      <td>J. K. Rowling</td>\n",
       "      <td>http://images.amazon.com/images/P/0439136350.0...</td>\n",
       "      <td>428</td>\n",
       "      <td>5.852804</td>\n",
       "    </tr>\n",
       "    <tr>\n",
       "      <th>3</th>\n",
       "      <td>Harry Potter and the Goblet of Fire (Book 4)</td>\n",
       "      <td>J. K. Rowling</td>\n",
       "      <td>http://images.amazon.com/images/P/0439139597.0...</td>\n",
       "      <td>387</td>\n",
       "      <td>5.824289</td>\n",
       "    </tr>\n",
       "    <tr>\n",
       "      <th>5</th>\n",
       "      <td>Harry Potter and the Sorcerer's Stone (Book 1)</td>\n",
       "      <td>J. K. Rowling</td>\n",
       "      <td>http://images.amazon.com/images/P/0590353403.0...</td>\n",
       "      <td>278</td>\n",
       "      <td>5.737410</td>\n",
       "    </tr>\n",
       "    <tr>\n",
       "      <th>9</th>\n",
       "      <td>Harry Potter and the Order of the Phoenix (Boo...</td>\n",
       "      <td>J. K. Rowling</td>\n",
       "      <td>http://images.amazon.com/images/P/043935806X.0...</td>\n",
       "      <td>347</td>\n",
       "      <td>5.501441</td>\n",
       "    </tr>\n",
       "    <tr>\n",
       "      <th>13</th>\n",
       "      <td>Harry Potter and the Chamber of Secrets (Book 2)</td>\n",
       "      <td>J. K. Rowling</td>\n",
       "      <td>http://images.amazon.com/images/P/0439064872.0...</td>\n",
       "      <td>556</td>\n",
       "      <td>5.183453</td>\n",
       "    </tr>\n",
       "  </tbody>\n",
       "</table>\n",
       "</div>"
      ],
      "text/plain": [
       "                                           Book-Title    Book-Author  \\\n",
       "0   Harry Potter and the Prisoner of Azkaban (Book 3)  J. K. Rowling   \n",
       "3        Harry Potter and the Goblet of Fire (Book 4)  J. K. Rowling   \n",
       "5      Harry Potter and the Sorcerer's Stone (Book 1)  J. K. Rowling   \n",
       "9   Harry Potter and the Order of the Phoenix (Boo...  J. K. Rowling   \n",
       "13   Harry Potter and the Chamber of Secrets (Book 2)  J. K. Rowling   \n",
       "\n",
       "                                          Image-URL-M  Totle_number_rating  \\\n",
       "0   http://images.amazon.com/images/P/0439136350.0...                  428   \n",
       "3   http://images.amazon.com/images/P/0439139597.0...                  387   \n",
       "5   http://images.amazon.com/images/P/0590353403.0...                  278   \n",
       "9   http://images.amazon.com/images/P/043935806X.0...                  347   \n",
       "13  http://images.amazon.com/images/P/0439064872.0...                  556   \n",
       "\n",
       "    Totle_avg_rating  \n",
       "0           5.852804  \n",
       "3           5.824289  \n",
       "5           5.737410  \n",
       "9           5.501441  \n",
       "13          5.183453  "
      ]
     },
     "execution_count": 135,
     "metadata": {},
     "output_type": "execute_result"
    }
   ],
   "source": [
    "# merge the 'popular_df' and 'books' dataset \n",
    "# Books-Title have many duplicated values \n",
    "# drop_duplicated\n",
    "\n",
    "popular_df = popular_df.merge(books,on='Book-Title').drop_duplicates('Book-Title')[['Book-Title','Book-Author', 'Image-URL-M', 'Totle_number_rating','Totle_avg_rating']]\n",
    "popular_df.head()"
   ]
  },
  {
   "cell_type": "code",
   "execution_count": 137,
   "id": "7066c06b-d5ee-4720-adbe-705c18402d4c",
   "metadata": {},
   "outputs": [
    {
     "data": {
      "text/html": [
       "<div>\n",
       "<style scoped>\n",
       "    .dataframe tbody tr th:only-of-type {\n",
       "        vertical-align: middle;\n",
       "    }\n",
       "\n",
       "    .dataframe tbody tr th {\n",
       "        vertical-align: top;\n",
       "    }\n",
       "\n",
       "    .dataframe thead th {\n",
       "        text-align: right;\n",
       "    }\n",
       "</style>\n",
       "<table border=\"1\" class=\"dataframe\">\n",
       "  <thead>\n",
       "    <tr style=\"text-align: right;\">\n",
       "      <th></th>\n",
       "      <th>Book-Title</th>\n",
       "      <th>Book-Author</th>\n",
       "      <th>Image-URL-M</th>\n",
       "      <th>Totle_number_rating</th>\n",
       "      <th>Totle_avg_rating</th>\n",
       "    </tr>\n",
       "  </thead>\n",
       "  <tbody>\n",
       "    <tr>\n",
       "      <th>0</th>\n",
       "      <td>Harry Potter and the Prisoner of Azkaban (Book 3)</td>\n",
       "      <td>J. K. Rowling</td>\n",
       "      <td>http://images.amazon.com/images/P/0439136350.0...</td>\n",
       "      <td>428</td>\n",
       "      <td>5.852804</td>\n",
       "    </tr>\n",
       "    <tr>\n",
       "      <th>3</th>\n",
       "      <td>Harry Potter and the Goblet of Fire (Book 4)</td>\n",
       "      <td>J. K. Rowling</td>\n",
       "      <td>http://images.amazon.com/images/P/0439139597.0...</td>\n",
       "      <td>387</td>\n",
       "      <td>5.824289</td>\n",
       "    </tr>\n",
       "    <tr>\n",
       "      <th>5</th>\n",
       "      <td>Harry Potter and the Sorcerer's Stone (Book 1)</td>\n",
       "      <td>J. K. Rowling</td>\n",
       "      <td>http://images.amazon.com/images/P/0590353403.0...</td>\n",
       "      <td>278</td>\n",
       "      <td>5.737410</td>\n",
       "    </tr>\n",
       "    <tr>\n",
       "      <th>9</th>\n",
       "      <td>Harry Potter and the Order of the Phoenix (Boo...</td>\n",
       "      <td>J. K. Rowling</td>\n",
       "      <td>http://images.amazon.com/images/P/043935806X.0...</td>\n",
       "      <td>347</td>\n",
       "      <td>5.501441</td>\n",
       "    </tr>\n",
       "    <tr>\n",
       "      <th>13</th>\n",
       "      <td>Harry Potter and the Chamber of Secrets (Book 2)</td>\n",
       "      <td>J. K. Rowling</td>\n",
       "      <td>http://images.amazon.com/images/P/0439064872.0...</td>\n",
       "      <td>556</td>\n",
       "      <td>5.183453</td>\n",
       "    </tr>\n",
       "  </tbody>\n",
       "</table>\n",
       "</div>"
      ],
      "text/plain": [
       "                                           Book-Title    Book-Author  \\\n",
       "0   Harry Potter and the Prisoner of Azkaban (Book 3)  J. K. Rowling   \n",
       "3        Harry Potter and the Goblet of Fire (Book 4)  J. K. Rowling   \n",
       "5      Harry Potter and the Sorcerer's Stone (Book 1)  J. K. Rowling   \n",
       "9   Harry Potter and the Order of the Phoenix (Boo...  J. K. Rowling   \n",
       "13   Harry Potter and the Chamber of Secrets (Book 2)  J. K. Rowling   \n",
       "\n",
       "                                          Image-URL-M  Totle_number_rating  \\\n",
       "0   http://images.amazon.com/images/P/0439136350.0...                  428   \n",
       "3   http://images.amazon.com/images/P/0439139597.0...                  387   \n",
       "5   http://images.amazon.com/images/P/0590353403.0...                  278   \n",
       "9   http://images.amazon.com/images/P/043935806X.0...                  347   \n",
       "13  http://images.amazon.com/images/P/0439064872.0...                  556   \n",
       "\n",
       "    Totle_avg_rating  \n",
       "0           5.852804  \n",
       "3           5.824289  \n",
       "5           5.737410  \n",
       "9           5.501441  \n",
       "13          5.183453  "
      ]
     },
     "execution_count": 137,
     "metadata": {},
     "output_type": "execute_result"
    }
   ],
   "source": [
    "# this all the top 50 Books\n",
    "popular_df.head()"
   ]
  },
  {
   "cell_type": "markdown",
   "id": "312325d7-fe7a-4c3c-ad05-5e90c08c6098",
   "metadata": {},
   "source": [
    "## Collaborative Filtering Based Recommender System"
   ]
  },
  {
   "cell_type": "markdown",
   "id": "56903950-0970-42f6-9c0a-d5e832e11e52",
   "metadata": {},
   "source": [
    "### Step-1) Extract users and ratings of more than 200"
   ]
  },
  {
   "cell_type": "code",
   "execution_count": 155,
   "id": "c110b4bb-ed91-4dc0-96e2-3a0c1c47aac4",
   "metadata": {},
   "outputs": [
    {
     "data": {
      "text/plain": [
       "Index([ 11676, 198711, 153662,  98391,  35859, 212898, 278418,  76352, 110973,\n",
       "       235105,\n",
       "       ...\n",
       "       260183,  73681,  44296, 155916,   9856, 274808,  28634,  59727, 268622,\n",
       "       188951],\n",
       "      dtype='int64', name='User-ID', length=899)"
      ]
     },
     "execution_count": 155,
     "metadata": {},
     "output_type": "execute_result"
    }
   ],
   "source": [
    "x = ratings['User-ID'].value_counts() > 200\n",
    "y = x[x].index\n",
    "y"
   ]
  },
  {
   "cell_type": "code",
   "execution_count": 157,
   "id": "b0c0b089-1cf4-4eda-8965-89ac9477ff90",
   "metadata": {},
   "outputs": [
    {
     "name": "stdout",
     "output_type": "stream",
     "text": [
      "(899,)\n"
     ]
    }
   ],
   "source": [
    "print(y.shape)"
   ]
  },
  {
   "cell_type": "code",
   "execution_count": 161,
   "id": "e621bcce-2203-403a-afec-a6880f44b051",
   "metadata": {},
   "outputs": [],
   "source": [
    "ratings = ratings[ratings['User-ID'].isin(y)]\n"
   ]
  },
  {
   "cell_type": "markdown",
   "id": "39373160-6546-41d6-911a-a6700f9a8c9b",
   "metadata": {},
   "source": [
    "### step-2) Merge ratings with books"
   ]
  },
  {
   "cell_type": "code",
   "execution_count": 164,
   "id": "bee7213f-c253-4ee9-878b-117dd0229189",
   "metadata": {},
   "outputs": [
    {
     "data": {
      "text/html": [
       "<div>\n",
       "<style scoped>\n",
       "    .dataframe tbody tr th:only-of-type {\n",
       "        vertical-align: middle;\n",
       "    }\n",
       "\n",
       "    .dataframe tbody tr th {\n",
       "        vertical-align: top;\n",
       "    }\n",
       "\n",
       "    .dataframe thead th {\n",
       "        text-align: right;\n",
       "    }\n",
       "</style>\n",
       "<table border=\"1\" class=\"dataframe\">\n",
       "  <thead>\n",
       "    <tr style=\"text-align: right;\">\n",
       "      <th></th>\n",
       "      <th>User-ID</th>\n",
       "      <th>ISBN</th>\n",
       "      <th>Book-Rating</th>\n",
       "      <th>Book-Title</th>\n",
       "      <th>Book-Author</th>\n",
       "      <th>Publisher</th>\n",
       "      <th>Image-URL-S</th>\n",
       "      <th>Image-URL-M</th>\n",
       "      <th>Image-URL-L</th>\n",
       "      <th>Publication_Date</th>\n",
       "      <th>Year-Of-Publication</th>\n",
       "    </tr>\n",
       "  </thead>\n",
       "  <tbody>\n",
       "    <tr>\n",
       "      <th>0</th>\n",
       "      <td>277427</td>\n",
       "      <td>002542730X</td>\n",
       "      <td>10</td>\n",
       "      <td>Politically Correct Bedtime Stories: Modern Ta...</td>\n",
       "      <td>James Finn Garner</td>\n",
       "      <td>John Wiley &amp;amp; Sons Inc</td>\n",
       "      <td>http://images.amazon.com/images/P/002542730X.0...</td>\n",
       "      <td>http://images.amazon.com/images/P/002542730X.0...</td>\n",
       "      <td>http://images.amazon.com/images/P/002542730X.0...</td>\n",
       "      <td>1994-01-01</td>\n",
       "      <td>1994.0</td>\n",
       "    </tr>\n",
       "    <tr>\n",
       "      <th>1</th>\n",
       "      <td>277427</td>\n",
       "      <td>0026217457</td>\n",
       "      <td>0</td>\n",
       "      <td>Vegetarian Times Complete Cookbook</td>\n",
       "      <td>Lucy  Moll</td>\n",
       "      <td>John Wiley &amp;amp; Sons</td>\n",
       "      <td>http://images.amazon.com/images/P/0026217457.0...</td>\n",
       "      <td>http://images.amazon.com/images/P/0026217457.0...</td>\n",
       "      <td>http://images.amazon.com/images/P/0026217457.0...</td>\n",
       "      <td>1995-01-01</td>\n",
       "      <td>1995.0</td>\n",
       "    </tr>\n",
       "  </tbody>\n",
       "</table>\n",
       "</div>"
      ],
      "text/plain": [
       "   User-ID        ISBN  Book-Rating  \\\n",
       "0   277427  002542730X           10   \n",
       "1   277427  0026217457            0   \n",
       "\n",
       "                                          Book-Title        Book-Author  \\\n",
       "0  Politically Correct Bedtime Stories: Modern Ta...  James Finn Garner   \n",
       "1                 Vegetarian Times Complete Cookbook         Lucy  Moll   \n",
       "\n",
       "                   Publisher  \\\n",
       "0  John Wiley &amp; Sons Inc   \n",
       "1      John Wiley &amp; Sons   \n",
       "\n",
       "                                         Image-URL-S  \\\n",
       "0  http://images.amazon.com/images/P/002542730X.0...   \n",
       "1  http://images.amazon.com/images/P/0026217457.0...   \n",
       "\n",
       "                                         Image-URL-M  \\\n",
       "0  http://images.amazon.com/images/P/002542730X.0...   \n",
       "1  http://images.amazon.com/images/P/0026217457.0...   \n",
       "\n",
       "                                         Image-URL-L Publication_Date  \\\n",
       "0  http://images.amazon.com/images/P/002542730X.0...       1994-01-01   \n",
       "1  http://images.amazon.com/images/P/0026217457.0...       1995-01-01   \n",
       "\n",
       "   Year-Of-Publication  \n",
       "0               1994.0  \n",
       "1               1995.0  "
      ]
     },
     "execution_count": 164,
     "metadata": {},
     "output_type": "execute_result"
    }
   ],
   "source": [
    "rating_with_books = ratings.merge(books, on='ISBN')\n",
    "rating_with_books.head(2)"
   ]
  },
  {
   "cell_type": "markdown",
   "id": "4dd02f90-c62e-4b63-8c4d-20f98ce75a3c",
   "metadata": {},
   "source": [
    "### step-3) Extract books that have received more than 50 ratings."
   ]
  },
  {
   "cell_type": "code",
   "execution_count": 167,
   "id": "7778b13b-3516-4665-8d26-0d5cc6e6ceb8",
   "metadata": {},
   "outputs": [
    {
     "data": {
      "text/html": [
       "<div>\n",
       "<style scoped>\n",
       "    .dataframe tbody tr th:only-of-type {\n",
       "        vertical-align: middle;\n",
       "    }\n",
       "\n",
       "    .dataframe tbody tr th {\n",
       "        vertical-align: top;\n",
       "    }\n",
       "\n",
       "    .dataframe thead th {\n",
       "        text-align: right;\n",
       "    }\n",
       "</style>\n",
       "<table border=\"1\" class=\"dataframe\">\n",
       "  <thead>\n",
       "    <tr style=\"text-align: right;\">\n",
       "      <th></th>\n",
       "      <th>Book-Title</th>\n",
       "      <th>number_of_ratings</th>\n",
       "    </tr>\n",
       "  </thead>\n",
       "  <tbody>\n",
       "    <tr>\n",
       "      <th>0</th>\n",
       "      <td>A Light in the Storm: The Civil War Diary of ...</td>\n",
       "      <td>2</td>\n",
       "    </tr>\n",
       "    <tr>\n",
       "      <th>1</th>\n",
       "      <td>Always Have Popsicles</td>\n",
       "      <td>1</td>\n",
       "    </tr>\n",
       "    <tr>\n",
       "      <th>2</th>\n",
       "      <td>Apple Magic (The Collector's series)</td>\n",
       "      <td>1</td>\n",
       "    </tr>\n",
       "    <tr>\n",
       "      <th>3</th>\n",
       "      <td>Beyond IBM: Leadership Marketing and Finance ...</td>\n",
       "      <td>1</td>\n",
       "    </tr>\n",
       "    <tr>\n",
       "      <th>4</th>\n",
       "      <td>Clifford Visita El Hospital (Clifford El Gran...</td>\n",
       "      <td>1</td>\n",
       "    </tr>\n",
       "  </tbody>\n",
       "</table>\n",
       "</div>"
      ],
      "text/plain": [
       "                                          Book-Title  number_of_ratings\n",
       "0   A Light in the Storm: The Civil War Diary of ...                  2\n",
       "1                              Always Have Popsicles                  1\n",
       "2               Apple Magic (The Collector's series)                  1\n",
       "3   Beyond IBM: Leadership Marketing and Finance ...                  1\n",
       "4   Clifford Visita El Hospital (Clifford El Gran...                  1"
      ]
     },
     "execution_count": 167,
     "metadata": {},
     "output_type": "execute_result"
    }
   ],
   "source": [
    "number_rating = rating_with_books.groupby('Book-Title')['Book-Rating'].count().reset_index()\n",
    "number_rating.rename(columns= {'Book-Rating':'number_of_ratings'}, inplace=True)\n",
    "number_rating.head()"
   ]
  },
  {
   "cell_type": "code",
   "execution_count": 175,
   "id": "6ef2d180-634d-49f0-ab86-239bbdd34dc1",
   "metadata": {},
   "outputs": [],
   "source": [
    "final_rating = rating_with_books.merge(number_rating, on='Book-Title')\n"
   ]
  },
  {
   "cell_type": "code",
   "execution_count": 176,
   "id": "86f8cef7-29e9-4bc3-ad7a-91b59e48fca5",
   "metadata": {},
   "outputs": [],
   "source": [
    "final_rating = final_rating[final_rating['number_of_ratings'] >= 50]\n",
    "final_rating.drop_duplicates(['User-ID','Book-Title'], inplace=True)\n"
   ]
  },
  {
   "cell_type": "markdown",
   "id": "7cd0e03a-033a-4129-b6a0-09f5ba1a2451",
   "metadata": {},
   "source": [
    "### Step-4) Create Pivot Table"
   ]
  },
  {
   "cell_type": "code",
   "execution_count": 180,
   "id": "6578778d-338a-41f0-8951-264533cb128e",
   "metadata": {},
   "outputs": [],
   "source": [
    "book_pivot = final_rating.pivot_table(columns='User-ID', index='Book-Title', values=\"Book-Rating\")\n",
    "book_pivot.fillna(0, inplace=True)"
   ]
  },
  {
   "cell_type": "code",
   "execution_count": 182,
   "id": "9c99a85f-ca8b-4191-a518-743bb0f43ffc",
   "metadata": {},
   "outputs": [
    {
     "data": {
      "text/html": [
       "<div>\n",
       "<style scoped>\n",
       "    .dataframe tbody tr th:only-of-type {\n",
       "        vertical-align: middle;\n",
       "    }\n",
       "\n",
       "    .dataframe tbody tr th {\n",
       "        vertical-align: top;\n",
       "    }\n",
       "\n",
       "    .dataframe thead th {\n",
       "        text-align: right;\n",
       "    }\n",
       "</style>\n",
       "<table border=\"1\" class=\"dataframe\">\n",
       "  <thead>\n",
       "    <tr style=\"text-align: right;\">\n",
       "      <th>User-ID</th>\n",
       "      <th>254</th>\n",
       "      <th>2276</th>\n",
       "      <th>2766</th>\n",
       "      <th>2977</th>\n",
       "      <th>3363</th>\n",
       "      <th>3757</th>\n",
       "      <th>4017</th>\n",
       "      <th>4385</th>\n",
       "      <th>6242</th>\n",
       "      <th>6251</th>\n",
       "      <th>...</th>\n",
       "      <th>274004</th>\n",
       "      <th>274061</th>\n",
       "      <th>274301</th>\n",
       "      <th>274308</th>\n",
       "      <th>274808</th>\n",
       "      <th>275970</th>\n",
       "      <th>277427</th>\n",
       "      <th>277478</th>\n",
       "      <th>277639</th>\n",
       "      <th>278418</th>\n",
       "    </tr>\n",
       "    <tr>\n",
       "      <th>Book-Title</th>\n",
       "      <th></th>\n",
       "      <th></th>\n",
       "      <th></th>\n",
       "      <th></th>\n",
       "      <th></th>\n",
       "      <th></th>\n",
       "      <th></th>\n",
       "      <th></th>\n",
       "      <th></th>\n",
       "      <th></th>\n",
       "      <th></th>\n",
       "      <th></th>\n",
       "      <th></th>\n",
       "      <th></th>\n",
       "      <th></th>\n",
       "      <th></th>\n",
       "      <th></th>\n",
       "      <th></th>\n",
       "      <th></th>\n",
       "      <th></th>\n",
       "      <th></th>\n",
       "    </tr>\n",
       "  </thead>\n",
       "  <tbody>\n",
       "    <tr>\n",
       "      <th>1984</th>\n",
       "      <td>9.0</td>\n",
       "      <td>0.0</td>\n",
       "      <td>0.0</td>\n",
       "      <td>0.0</td>\n",
       "      <td>0.0</td>\n",
       "      <td>0.0</td>\n",
       "      <td>0.0</td>\n",
       "      <td>0.0</td>\n",
       "      <td>0.0</td>\n",
       "      <td>0.0</td>\n",
       "      <td>...</td>\n",
       "      <td>0.0</td>\n",
       "      <td>0.0</td>\n",
       "      <td>0.0</td>\n",
       "      <td>0.0</td>\n",
       "      <td>0.0</td>\n",
       "      <td>0.0</td>\n",
       "      <td>0.0</td>\n",
       "      <td>0.0</td>\n",
       "      <td>0.0</td>\n",
       "      <td>0.0</td>\n",
       "    </tr>\n",
       "    <tr>\n",
       "      <th>1st to Die: A Novel</th>\n",
       "      <td>0.0</td>\n",
       "      <td>0.0</td>\n",
       "      <td>0.0</td>\n",
       "      <td>0.0</td>\n",
       "      <td>0.0</td>\n",
       "      <td>0.0</td>\n",
       "      <td>0.0</td>\n",
       "      <td>0.0</td>\n",
       "      <td>0.0</td>\n",
       "      <td>0.0</td>\n",
       "      <td>...</td>\n",
       "      <td>0.0</td>\n",
       "      <td>0.0</td>\n",
       "      <td>0.0</td>\n",
       "      <td>0.0</td>\n",
       "      <td>0.0</td>\n",
       "      <td>0.0</td>\n",
       "      <td>0.0</td>\n",
       "      <td>0.0</td>\n",
       "      <td>0.0</td>\n",
       "      <td>0.0</td>\n",
       "    </tr>\n",
       "    <tr>\n",
       "      <th>2nd Chance</th>\n",
       "      <td>0.0</td>\n",
       "      <td>10.0</td>\n",
       "      <td>0.0</td>\n",
       "      <td>0.0</td>\n",
       "      <td>0.0</td>\n",
       "      <td>0.0</td>\n",
       "      <td>0.0</td>\n",
       "      <td>0.0</td>\n",
       "      <td>0.0</td>\n",
       "      <td>0.0</td>\n",
       "      <td>...</td>\n",
       "      <td>0.0</td>\n",
       "      <td>0.0</td>\n",
       "      <td>0.0</td>\n",
       "      <td>0.0</td>\n",
       "      <td>0.0</td>\n",
       "      <td>0.0</td>\n",
       "      <td>0.0</td>\n",
       "      <td>0.0</td>\n",
       "      <td>0.0</td>\n",
       "      <td>0.0</td>\n",
       "    </tr>\n",
       "    <tr>\n",
       "      <th>4 Blondes</th>\n",
       "      <td>0.0</td>\n",
       "      <td>0.0</td>\n",
       "      <td>0.0</td>\n",
       "      <td>0.0</td>\n",
       "      <td>0.0</td>\n",
       "      <td>0.0</td>\n",
       "      <td>0.0</td>\n",
       "      <td>0.0</td>\n",
       "      <td>0.0</td>\n",
       "      <td>0.0</td>\n",
       "      <td>...</td>\n",
       "      <td>0.0</td>\n",
       "      <td>0.0</td>\n",
       "      <td>0.0</td>\n",
       "      <td>0.0</td>\n",
       "      <td>0.0</td>\n",
       "      <td>0.0</td>\n",
       "      <td>0.0</td>\n",
       "      <td>0.0</td>\n",
       "      <td>0.0</td>\n",
       "      <td>0.0</td>\n",
       "    </tr>\n",
       "    <tr>\n",
       "      <th>84 Charing Cross Road</th>\n",
       "      <td>0.0</td>\n",
       "      <td>0.0</td>\n",
       "      <td>0.0</td>\n",
       "      <td>0.0</td>\n",
       "      <td>0.0</td>\n",
       "      <td>0.0</td>\n",
       "      <td>0.0</td>\n",
       "      <td>0.0</td>\n",
       "      <td>0.0</td>\n",
       "      <td>0.0</td>\n",
       "      <td>...</td>\n",
       "      <td>0.0</td>\n",
       "      <td>0.0</td>\n",
       "      <td>0.0</td>\n",
       "      <td>0.0</td>\n",
       "      <td>0.0</td>\n",
       "      <td>10.0</td>\n",
       "      <td>0.0</td>\n",
       "      <td>0.0</td>\n",
       "      <td>0.0</td>\n",
       "      <td>0.0</td>\n",
       "    </tr>\n",
       "    <tr>\n",
       "      <th>...</th>\n",
       "      <td>...</td>\n",
       "      <td>...</td>\n",
       "      <td>...</td>\n",
       "      <td>...</td>\n",
       "      <td>...</td>\n",
       "      <td>...</td>\n",
       "      <td>...</td>\n",
       "      <td>...</td>\n",
       "      <td>...</td>\n",
       "      <td>...</td>\n",
       "      <td>...</td>\n",
       "      <td>...</td>\n",
       "      <td>...</td>\n",
       "      <td>...</td>\n",
       "      <td>...</td>\n",
       "      <td>...</td>\n",
       "      <td>...</td>\n",
       "      <td>...</td>\n",
       "      <td>...</td>\n",
       "      <td>...</td>\n",
       "      <td>...</td>\n",
       "    </tr>\n",
       "    <tr>\n",
       "      <th>Year of Wonders</th>\n",
       "      <td>0.0</td>\n",
       "      <td>0.0</td>\n",
       "      <td>0.0</td>\n",
       "      <td>7.0</td>\n",
       "      <td>0.0</td>\n",
       "      <td>0.0</td>\n",
       "      <td>0.0</td>\n",
       "      <td>0.0</td>\n",
       "      <td>7.0</td>\n",
       "      <td>0.0</td>\n",
       "      <td>...</td>\n",
       "      <td>0.0</td>\n",
       "      <td>0.0</td>\n",
       "      <td>0.0</td>\n",
       "      <td>0.0</td>\n",
       "      <td>0.0</td>\n",
       "      <td>0.0</td>\n",
       "      <td>0.0</td>\n",
       "      <td>0.0</td>\n",
       "      <td>0.0</td>\n",
       "      <td>0.0</td>\n",
       "    </tr>\n",
       "    <tr>\n",
       "      <th>You Belong To Me</th>\n",
       "      <td>0.0</td>\n",
       "      <td>0.0</td>\n",
       "      <td>0.0</td>\n",
       "      <td>0.0</td>\n",
       "      <td>0.0</td>\n",
       "      <td>0.0</td>\n",
       "      <td>0.0</td>\n",
       "      <td>0.0</td>\n",
       "      <td>0.0</td>\n",
       "      <td>0.0</td>\n",
       "      <td>...</td>\n",
       "      <td>0.0</td>\n",
       "      <td>0.0</td>\n",
       "      <td>0.0</td>\n",
       "      <td>0.0</td>\n",
       "      <td>0.0</td>\n",
       "      <td>0.0</td>\n",
       "      <td>0.0</td>\n",
       "      <td>0.0</td>\n",
       "      <td>0.0</td>\n",
       "      <td>0.0</td>\n",
       "    </tr>\n",
       "    <tr>\n",
       "      <th>Zen and the Art of Motorcycle Maintenance: An Inquiry into Values</th>\n",
       "      <td>0.0</td>\n",
       "      <td>0.0</td>\n",
       "      <td>0.0</td>\n",
       "      <td>0.0</td>\n",
       "      <td>0.0</td>\n",
       "      <td>0.0</td>\n",
       "      <td>0.0</td>\n",
       "      <td>0.0</td>\n",
       "      <td>0.0</td>\n",
       "      <td>0.0</td>\n",
       "      <td>...</td>\n",
       "      <td>0.0</td>\n",
       "      <td>0.0</td>\n",
       "      <td>0.0</td>\n",
       "      <td>0.0</td>\n",
       "      <td>0.0</td>\n",
       "      <td>0.0</td>\n",
       "      <td>0.0</td>\n",
       "      <td>0.0</td>\n",
       "      <td>0.0</td>\n",
       "      <td>0.0</td>\n",
       "    </tr>\n",
       "    <tr>\n",
       "      <th>Zoya</th>\n",
       "      <td>0.0</td>\n",
       "      <td>0.0</td>\n",
       "      <td>0.0</td>\n",
       "      <td>0.0</td>\n",
       "      <td>0.0</td>\n",
       "      <td>0.0</td>\n",
       "      <td>0.0</td>\n",
       "      <td>0.0</td>\n",
       "      <td>0.0</td>\n",
       "      <td>0.0</td>\n",
       "      <td>...</td>\n",
       "      <td>0.0</td>\n",
       "      <td>0.0</td>\n",
       "      <td>0.0</td>\n",
       "      <td>0.0</td>\n",
       "      <td>0.0</td>\n",
       "      <td>0.0</td>\n",
       "      <td>0.0</td>\n",
       "      <td>0.0</td>\n",
       "      <td>0.0</td>\n",
       "      <td>0.0</td>\n",
       "    </tr>\n",
       "    <tr>\n",
       "      <th>\\O\\\" Is for Outlaw\"</th>\n",
       "      <td>0.0</td>\n",
       "      <td>0.0</td>\n",
       "      <td>0.0</td>\n",
       "      <td>0.0</td>\n",
       "      <td>0.0</td>\n",
       "      <td>0.0</td>\n",
       "      <td>0.0</td>\n",
       "      <td>0.0</td>\n",
       "      <td>0.0</td>\n",
       "      <td>0.0</td>\n",
       "      <td>...</td>\n",
       "      <td>0.0</td>\n",
       "      <td>0.0</td>\n",
       "      <td>8.0</td>\n",
       "      <td>0.0</td>\n",
       "      <td>0.0</td>\n",
       "      <td>0.0</td>\n",
       "      <td>0.0</td>\n",
       "      <td>0.0</td>\n",
       "      <td>0.0</td>\n",
       "      <td>0.0</td>\n",
       "    </tr>\n",
       "  </tbody>\n",
       "</table>\n",
       "<p>742 rows × 888 columns</p>\n",
       "</div>"
      ],
      "text/plain": [
       "User-ID                                             254     2276    2766    \\\n",
       "Book-Title                                                                   \n",
       "1984                                                   9.0     0.0     0.0   \n",
       "1st to Die: A Novel                                    0.0     0.0     0.0   \n",
       "2nd Chance                                             0.0    10.0     0.0   \n",
       "4 Blondes                                              0.0     0.0     0.0   \n",
       "84 Charing Cross Road                                  0.0     0.0     0.0   \n",
       "...                                                    ...     ...     ...   \n",
       "Year of Wonders                                        0.0     0.0     0.0   \n",
       "You Belong To Me                                       0.0     0.0     0.0   \n",
       "Zen and the Art of Motorcycle Maintenance: An I...     0.0     0.0     0.0   \n",
       "Zoya                                                   0.0     0.0     0.0   \n",
       "\\O\\\" Is for Outlaw\"                                    0.0     0.0     0.0   \n",
       "\n",
       "User-ID                                             2977    3363    3757    \\\n",
       "Book-Title                                                                   \n",
       "1984                                                   0.0     0.0     0.0   \n",
       "1st to Die: A Novel                                    0.0     0.0     0.0   \n",
       "2nd Chance                                             0.0     0.0     0.0   \n",
       "4 Blondes                                              0.0     0.0     0.0   \n",
       "84 Charing Cross Road                                  0.0     0.0     0.0   \n",
       "...                                                    ...     ...     ...   \n",
       "Year of Wonders                                        7.0     0.0     0.0   \n",
       "You Belong To Me                                       0.0     0.0     0.0   \n",
       "Zen and the Art of Motorcycle Maintenance: An I...     0.0     0.0     0.0   \n",
       "Zoya                                                   0.0     0.0     0.0   \n",
       "\\O\\\" Is for Outlaw\"                                    0.0     0.0     0.0   \n",
       "\n",
       "User-ID                                             4017    4385    6242    \\\n",
       "Book-Title                                                                   \n",
       "1984                                                   0.0     0.0     0.0   \n",
       "1st to Die: A Novel                                    0.0     0.0     0.0   \n",
       "2nd Chance                                             0.0     0.0     0.0   \n",
       "4 Blondes                                              0.0     0.0     0.0   \n",
       "84 Charing Cross Road                                  0.0     0.0     0.0   \n",
       "...                                                    ...     ...     ...   \n",
       "Year of Wonders                                        0.0     0.0     7.0   \n",
       "You Belong To Me                                       0.0     0.0     0.0   \n",
       "Zen and the Art of Motorcycle Maintenance: An I...     0.0     0.0     0.0   \n",
       "Zoya                                                   0.0     0.0     0.0   \n",
       "\\O\\\" Is for Outlaw\"                                    0.0     0.0     0.0   \n",
       "\n",
       "User-ID                                             6251    ...  274004  \\\n",
       "Book-Title                                                  ...           \n",
       "1984                                                   0.0  ...     0.0   \n",
       "1st to Die: A Novel                                    0.0  ...     0.0   \n",
       "2nd Chance                                             0.0  ...     0.0   \n",
       "4 Blondes                                              0.0  ...     0.0   \n",
       "84 Charing Cross Road                                  0.0  ...     0.0   \n",
       "...                                                    ...  ...     ...   \n",
       "Year of Wonders                                        0.0  ...     0.0   \n",
       "You Belong To Me                                       0.0  ...     0.0   \n",
       "Zen and the Art of Motorcycle Maintenance: An I...     0.0  ...     0.0   \n",
       "Zoya                                                   0.0  ...     0.0   \n",
       "\\O\\\" Is for Outlaw\"                                    0.0  ...     0.0   \n",
       "\n",
       "User-ID                                             274061  274301  274308  \\\n",
       "Book-Title                                                                   \n",
       "1984                                                   0.0     0.0     0.0   \n",
       "1st to Die: A Novel                                    0.0     0.0     0.0   \n",
       "2nd Chance                                             0.0     0.0     0.0   \n",
       "4 Blondes                                              0.0     0.0     0.0   \n",
       "84 Charing Cross Road                                  0.0     0.0     0.0   \n",
       "...                                                    ...     ...     ...   \n",
       "Year of Wonders                                        0.0     0.0     0.0   \n",
       "You Belong To Me                                       0.0     0.0     0.0   \n",
       "Zen and the Art of Motorcycle Maintenance: An I...     0.0     0.0     0.0   \n",
       "Zoya                                                   0.0     0.0     0.0   \n",
       "\\O\\\" Is for Outlaw\"                                    0.0     8.0     0.0   \n",
       "\n",
       "User-ID                                             274808  275970  277427  \\\n",
       "Book-Title                                                                   \n",
       "1984                                                   0.0     0.0     0.0   \n",
       "1st to Die: A Novel                                    0.0     0.0     0.0   \n",
       "2nd Chance                                             0.0     0.0     0.0   \n",
       "4 Blondes                                              0.0     0.0     0.0   \n",
       "84 Charing Cross Road                                  0.0    10.0     0.0   \n",
       "...                                                    ...     ...     ...   \n",
       "Year of Wonders                                        0.0     0.0     0.0   \n",
       "You Belong To Me                                       0.0     0.0     0.0   \n",
       "Zen and the Art of Motorcycle Maintenance: An I...     0.0     0.0     0.0   \n",
       "Zoya                                                   0.0     0.0     0.0   \n",
       "\\O\\\" Is for Outlaw\"                                    0.0     0.0     0.0   \n",
       "\n",
       "User-ID                                             277478  277639  278418  \n",
       "Book-Title                                                                  \n",
       "1984                                                   0.0     0.0     0.0  \n",
       "1st to Die: A Novel                                    0.0     0.0     0.0  \n",
       "2nd Chance                                             0.0     0.0     0.0  \n",
       "4 Blondes                                              0.0     0.0     0.0  \n",
       "84 Charing Cross Road                                  0.0     0.0     0.0  \n",
       "...                                                    ...     ...     ...  \n",
       "Year of Wonders                                        0.0     0.0     0.0  \n",
       "You Belong To Me                                       0.0     0.0     0.0  \n",
       "Zen and the Art of Motorcycle Maintenance: An I...     0.0     0.0     0.0  \n",
       "Zoya                                                   0.0     0.0     0.0  \n",
       "\\O\\\" Is for Outlaw\"                                    0.0     0.0     0.0  \n",
       "\n",
       "[742 rows x 888 columns]"
      ]
     },
     "execution_count": 182,
     "metadata": {},
     "output_type": "execute_result"
    }
   ],
   "source": [
    "book_pivot"
   ]
  },
  {
   "cell_type": "markdown",
   "id": "0726a709-1dc6-4ebd-801d-c7498842ec69",
   "metadata": {},
   "source": [
    "## Modeling"
   ]
  },
  {
   "cell_type": "code",
   "execution_count": 185,
   "id": "15b8786a-262c-4d0d-9c0b-458154929afc",
   "metadata": {},
   "outputs": [],
   "source": [
    "from sklearn.metrics.pairwise import cosine_similarity\n",
    "\n",
    "similarity_scores = cosine_similarity(book_pivot)"
   ]
  },
  {
   "cell_type": "code",
   "execution_count": 187,
   "id": "c9c626b9-a0cb-415a-8b9b-c8f579307e10",
   "metadata": {},
   "outputs": [
    {
     "data": {
      "text/plain": [
       "array([[1.        , 0.08273808, 0.        , ..., 0.09601007, 0.0458244 ,\n",
       "        0.03361581],\n",
       "       [0.08273808, 1.        , 0.19488963, ..., 0.07010171, 0.16174155,\n",
       "        0.15315244],\n",
       "       [0.        , 0.19488963, 1.        , ..., 0.0432679 , 0.04617844,\n",
       "        0.10992264],\n",
       "       ...,\n",
       "       [0.09601007, 0.07010171, 0.0432679 , ..., 1.        , 0.07085128,\n",
       "        0.03898126],\n",
       "       [0.0458244 , 0.16174155, 0.04617844, ..., 0.07085128, 1.        ,\n",
       "        0.13208788],\n",
       "       [0.03361581, 0.15315244, 0.10992264, ..., 0.03898126, 0.13208788,\n",
       "        1.        ]])"
      ]
     },
     "execution_count": 187,
     "metadata": {},
     "output_type": "execute_result"
    }
   ],
   "source": [
    "similarity_scores"
   ]
  },
  {
   "cell_type": "code",
   "execution_count": 189,
   "id": "06e7d5ba-2b78-4fd6-9e53-25e9b1f2cbc1",
   "metadata": {},
   "outputs": [
    {
     "data": {
      "text/plain": [
       "(742, 742)"
      ]
     },
     "execution_count": 189,
     "metadata": {},
     "output_type": "execute_result"
    }
   ],
   "source": [
    "similarity_scores.shape"
   ]
  },
  {
   "cell_type": "code",
   "execution_count": 191,
   "id": "38fbdbee-c8ee-4051-89ac-948eb66387df",
   "metadata": {},
   "outputs": [
    {
     "data": {
      "text/plain": [
       "array([1.        , 0.08273808, 0.        , 0.        , 0.07477071,\n",
       "       0.03673833, 0.        , 0.07368049, 0.09312385, 0.        ,\n",
       "       0.        , 0.        , 0.        , 0.        , 0.06190186,\n",
       "       0.01884281, 0.06460814, 0.10244607, 0.05053814, 0.08722302,\n",
       "       0.02344827, 0.        , 0.0919701 , 0.        , 0.12843214,\n",
       "       0.07175744, 0.05680891, 0.06375014, 0.        , 0.05037691,\n",
       "       0.11085206, 0.05842187, 0.10602363, 0.06137039, 0.05217099,\n",
       "       0.        , 0.        , 0.06725339, 0.04260475, 0.        ,\n",
       "       0.        , 0.09462344, 0.07771828, 0.        , 0.        ,\n",
       "       0.05739762, 0.10825455, 0.        , 0.03177217, 0.0744179 ,\n",
       "       0.06814891, 0.0747601 , 0.02958686, 0.0508376 , 0.26945967,\n",
       "       0.0562573 , 0.08493312, 0.1105367 , 0.10892904, 0.07033842,\n",
       "       0.039704  , 0.        , 0.        , 0.0359186 , 0.        ,\n",
       "       0.0544709 , 0.03459765, 0.13404582, 0.        , 0.        ,\n",
       "       0.        , 0.03799022, 0.09737684, 0.12774137, 0.        ,\n",
       "       0.06148694, 0.11121782, 0.05169689, 0.        , 0.        ,\n",
       "       0.        , 0.09396727, 0.03632014, 0.02550302, 0.        ,\n",
       "       0.04816597, 0.06204045, 0.08023967, 0.01936873, 0.        ,\n",
       "       0.19939666, 0.        , 0.08764601, 0.05537058, 0.11226989,\n",
       "       0.08579219, 0.0904658 , 0.        , 0.03949163, 0.        ,\n",
       "       0.11314907, 0.03040515, 0.        , 0.01414466, 0.        ,\n",
       "       0.        , 0.        , 0.        , 0.        , 0.11227979,\n",
       "       0.03093788, 0.03546377, 0.04588757, 0.        , 0.02524737,\n",
       "       0.04760919, 0.        , 0.043404  , 0.        , 0.        ,\n",
       "       0.06824101, 0.        , 0.        , 0.        , 0.        ,\n",
       "       0.08696066, 0.1363482 , 0.14379282, 0.04903943, 0.06402249,\n",
       "       0.03845928, 0.05537919, 0.03495935, 0.03883782, 0.        ,\n",
       "       0.02815667, 0.04298587, 0.        , 0.        , 0.06727867,\n",
       "       0.        , 0.        , 0.        , 0.0458244 , 0.02843375,\n",
       "       0.07148105, 0.        , 0.        , 0.        , 0.        ,\n",
       "       0.        , 0.        , 0.        , 0.        , 0.02615678,\n",
       "       0.        , 0.10251224, 0.        , 0.1229433 , 0.02566546,\n",
       "       0.08558958, 0.05289791, 0.11934503, 0.04623911, 0.08136641,\n",
       "       0.        , 0.        , 0.0589563 , 0.        , 0.04185512,\n",
       "       0.        , 0.        , 0.0129059 , 0.04507599, 0.        ,\n",
       "       0.        , 0.        , 0.        , 0.12199574, 0.04117086,\n",
       "       0.        , 0.        , 0.        , 0.13163766, 0.        ,\n",
       "       0.        , 0.04741893, 0.        , 0.02643052, 0.        ,\n",
       "       0.        , 0.1934337 , 0.        , 0.07872204, 0.        ,\n",
       "       0.        , 0.0500524 , 0.02923753, 0.        , 0.        ,\n",
       "       0.05556091, 0.03674292, 0.11706589, 0.        , 0.06693082,\n",
       "       0.07957806, 0.04385488, 0.10428587, 0.08195292, 0.        ,\n",
       "       0.        , 0.        , 0.12888112, 0.03225968, 0.04035731,\n",
       "       0.09046005, 0.11175406, 0.03804338, 0.0417001 , 0.03201278,\n",
       "       0.        , 0.07347399, 0.05198946, 0.04060552, 0.13020334,\n",
       "       0.07605522, 0.11420303, 0.0640988 , 0.06443894, 0.10679183,\n",
       "       0.        , 0.        , 0.        , 0.        , 0.03337794,\n",
       "       0.1311187 , 0.02482083, 0.05961566, 0.06585878, 0.05019847,\n",
       "       0.1116236 , 0.05649522, 0.04979905, 0.        , 0.        ,\n",
       "       0.        , 0.        , 0.        , 0.08016215, 0.        ,\n",
       "       0.        , 0.04367295, 0.        , 0.06232044, 0.06822821,\n",
       "       0.08741173, 0.        , 0.        , 0.        , 0.07391407,\n",
       "       0.06502356, 0.11890408, 0.        , 0.08662242, 0.05819167,\n",
       "       0.12359352, 0.0444338 , 0.        , 0.        , 0.02839382,\n",
       "       0.        , 0.08983108, 0.07857791, 0.        , 0.05107136,\n",
       "       0.        , 0.        , 0.        , 0.06355519, 0.0390475 ,\n",
       "       0.1318418 , 0.06942412, 0.06298201, 0.        , 0.        ,\n",
       "       0.        , 0.10798454, 0.05060278, 0.04507599, 0.        ,\n",
       "       0.        , 0.        , 0.08039376, 0.        , 0.        ,\n",
       "       0.        , 0.        , 0.10422129, 0.        , 0.        ,\n",
       "       0.04564363, 0.        , 0.03699128, 0.0708605 , 0.11583999,\n",
       "       0.        , 0.        , 0.0579172 , 0.        , 0.03240841,\n",
       "       0.        , 0.        , 0.04825861, 0.05320695, 0.12387492,\n",
       "       0.08990509, 0.        , 0.10096922, 0.04457484, 0.08999083,\n",
       "       0.        , 0.22145461, 0.04904398, 0.        , 0.09599795,\n",
       "       0.09781711, 0.        , 0.        , 0.        , 0.08296501,\n",
       "       0.0369376 , 0.16194953, 0.        , 0.        , 0.        ,\n",
       "       0.05655126, 0.12372151, 0.07659315, 0.        , 0.09407544,\n",
       "       0.0934105 , 0.02385212, 0.        , 0.05094268, 0.1006214 ,\n",
       "       0.        , 0.        , 0.        , 0.146751  , 0.        ,\n",
       "       0.        , 0.        , 0.        , 0.        , 0.        ,\n",
       "       0.        , 0.        , 0.        , 0.1405669 , 0.        ,\n",
       "       0.03617139, 0.06452952, 0.0676552 , 0.0652805 , 0.04000385,\n",
       "       0.03932266, 0.        , 0.        , 0.05005308, 0.11929936,\n",
       "       0.05104229, 0.        , 0.1352746 , 0.0338795 , 0.        ,\n",
       "       0.04429949, 0.        , 0.10232032, 0.0728474 , 0.0741443 ,\n",
       "       0.06801703, 0.06760847, 0.        , 0.        , 0.05093097,\n",
       "       0.        , 0.05334339, 0.        , 0.08086174, 0.10145452,\n",
       "       0.        , 0.04585716, 0.08122405, 0.        , 0.        ,\n",
       "       0.        , 0.07992431, 0.        , 0.        , 0.        ,\n",
       "       0.09148884, 0.05274661, 0.1270821 , 0.        , 0.05113906,\n",
       "       0.        , 0.        , 0.0409318 , 0.04377186, 0.        ,\n",
       "       0.        , 0.        , 0.        , 0.06389907, 0.        ,\n",
       "       0.13253783, 0.05380945, 0.        , 0.06662034, 0.        ,\n",
       "       0.09393795, 0.        , 0.        , 0.        , 0.04372025,\n",
       "       0.148676  , 0.        , 0.10998533, 0.10796635, 0.        ,\n",
       "       0.        , 0.        , 0.        , 0.        , 0.04867887,\n",
       "       0.        , 0.05550263, 0.        , 0.10380434, 0.07397184,\n",
       "       0.05109823, 0.04056508, 0.        , 0.04018615, 0.        ,\n",
       "       0.04291958, 0.04281023, 0.        , 0.06244175, 0.        ,\n",
       "       0.0904675 , 0.09333803, 0.        , 0.10110811, 0.        ,\n",
       "       0.        , 0.09347195, 0.10851567, 0.03572003, 0.06839223,\n",
       "       0.07001409, 0.05796416, 0.20761112, 0.07445705, 0.03380423,\n",
       "       0.0466383 , 0.        , 0.        , 0.04750429, 0.        ,\n",
       "       0.        , 0.04210415, 0.        , 0.        , 0.04807477,\n",
       "       0.        , 0.        , 0.        , 0.03933544, 0.05740616,\n",
       "       0.07435468, 0.        , 0.06709273, 0.06840579, 0.        ,\n",
       "       0.        , 0.04409098, 0.10316976, 0.03336218, 0.03873356,\n",
       "       0.        , 0.05642338, 0.04314081, 0.10010436, 0.        ,\n",
       "       0.05251485, 0.        , 0.0901853 , 0.04445829, 0.13411116,\n",
       "       0.09421593, 0.        , 0.        , 0.05113085, 0.        ,\n",
       "       0.        , 0.06110879, 0.12132986, 0.        , 0.06216472,\n",
       "       0.05059494, 0.04542065, 0.06069496, 0.03658121, 0.18215199,\n",
       "       0.10413471, 0.04630651, 0.0593359 , 0.        , 0.        ,\n",
       "       0.09621119, 0.09875288, 0.0329672 , 0.        , 0.        ,\n",
       "       0.        , 0.22305809, 0.03036275, 0.03867139, 0.01932986,\n",
       "       0.06744057, 0.03813688, 0.04832873, 0.09253226, 0.        ,\n",
       "       0.        , 0.        , 0.12702183, 0.09935103, 0.07175883,\n",
       "       0.        , 0.07754534, 0.08531404, 0.04808224, 0.06466489,\n",
       "       0.0986284 , 0.        , 0.17177712, 0.        , 0.06924405,\n",
       "       0.        , 0.0771094 , 0.06245096, 0.        , 0.13871582,\n",
       "       0.05181446, 0.        , 0.        , 0.08050937, 0.06885967,\n",
       "       0.        , 0.        , 0.        , 0.0604356 , 0.04455365,\n",
       "       0.11040892, 0.14334942, 0.05130422, 0.        , 0.07950793,\n",
       "       0.15402561, 0.06263621, 0.        , 0.        , 0.15712128,\n",
       "       0.21275956, 0.1655459 , 0.03737199, 0.        , 0.06276321,\n",
       "       0.11512483, 0.1863499 , 0.15854267, 0.        , 0.16860632,\n",
       "       0.        , 0.03538593, 0.10210121, 0.12486209, 0.        ,\n",
       "       0.06579319, 0.        , 0.10174033, 0.        , 0.04478968,\n",
       "       0.05926901, 0.1404549 , 0.        , 0.04886385, 0.04081701,\n",
       "       0.        , 0.12098886, 0.07634726, 0.        , 0.        ,\n",
       "       0.        , 0.08886759, 0.03967197, 0.12913342, 0.        ,\n",
       "       0.09152581, 0.02847389, 0.04109545, 0.0825176 , 0.0532403 ,\n",
       "       0.1174609 , 0.05189682, 0.        , 0.03896156, 0.        ,\n",
       "       0.13973538, 0.01770233, 0.13048892, 0.1300922 , 0.        ,\n",
       "       0.05332127, 0.04980829, 0.0601113 , 0.04748663, 0.04970855,\n",
       "       0.16237441, 0.        , 0.        , 0.03094816, 0.02730033,\n",
       "       0.        , 0.08810971, 0.0642972 , 0.11851689, 0.        ,\n",
       "       0.05680696, 0.        , 0.02835586, 0.0978408 , 0.        ,\n",
       "       0.07254435, 0.        , 0.        , 0.05326978, 0.09628321,\n",
       "       0.07569426, 0.        , 0.        , 0.07787108, 0.        ,\n",
       "       0.15481294, 0.0270695 , 0.1556669 , 0.03923233, 0.0452518 ,\n",
       "       0.0908291 , 0.06626964, 0.07619188, 0.        , 0.07680597,\n",
       "       0.04228523, 0.05745402, 0.        , 0.18663281, 0.        ,\n",
       "       0.10328899, 0.02658362, 0.11494766, 0.        , 0.08705076,\n",
       "       0.04052836, 0.        , 0.1287583 , 0.        , 0.08812539,\n",
       "       0.03611236, 0.15384667, 0.12616459, 0.07829631, 0.10183589,\n",
       "       0.02356408, 0.        , 0.        , 0.        , 0.05331161,\n",
       "       0.01193549, 0.        , 0.        , 0.03859629, 0.11930974,\n",
       "       0.08952575, 0.        , 0.        , 0.        , 0.04700402,\n",
       "       0.08252834, 0.13431246, 0.06439285, 0.08300732, 0.        ,\n",
       "       0.        , 0.07116396, 0.03605695, 0.07734595, 0.        ,\n",
       "       0.11381391, 0.03531068, 0.        , 0.0503156 , 0.        ,\n",
       "       0.        , 0.        , 0.        , 0.10299919, 0.063441  ,\n",
       "       0.083236  , 0.        , 0.0754807 , 0.        , 0.04637986,\n",
       "       0.06158996, 0.07216187, 0.        , 0.05211527, 0.        ,\n",
       "       0.        , 0.        , 0.03446459, 0.        , 0.        ,\n",
       "       0.0938251 , 0.05591358, 0.05247745, 0.        , 0.09601007,\n",
       "       0.0458244 , 0.03361581])"
      ]
     },
     "execution_count": 191,
     "metadata": {},
     "output_type": "execute_result"
    }
   ],
   "source": [
    "# this is the first books distance each books similarity \n",
    "similarity_scores[0]"
   ]
  },
  {
   "cell_type": "code",
   "execution_count": 193,
   "id": "0258501c-758c-4879-b8ce-c8db672b78cc",
   "metadata": {},
   "outputs": [],
   "source": [
    "def recommend(book_name):\n",
    "    # index fetch\n",
    "    index = np.where(book_pivot.index==book_name)[0][0]\n",
    "    similar_items = sorted(list(enumerate(similarity_scores[index])),key=lambda x:x[1],reverse=True)[1:5]\n",
    "    \n",
    "    data = []\n",
    "    for i in similar_items:\n",
    "        item = []\n",
    "        temp_df = books[books['Book-Title'] == book_pivot.index[i[0]]]\n",
    "        item.extend(list(temp_df.drop_duplicates('Book-Title')['Book-Title'].values))\n",
    "        item.extend(list(temp_df.drop_duplicates('Book-Title')['Book-Author'].values))\n",
    "        item.extend(list(temp_df.drop_duplicates('Book-Title')['Image-URL-M'].values))\n",
    "        \n",
    "        data.append(item)\n",
    "    \n",
    "    return data"
   ]
  },
  {
   "cell_type": "code",
   "execution_count": 195,
   "id": "c339defd-0246-4e77-9ce3-d36de155cb08",
   "metadata": {},
   "outputs": [
    {
     "data": {
      "text/plain": [
       "[['Harry Potter and the Prisoner of Azkaban (Book 3)',\n",
       "  'J. K. Rowling',\n",
       "  'http://images.amazon.com/images/P/0439136350.01.MZZZZZZZ.jpg'],\n",
       " ['Harry Potter and the Goblet of Fire (Book 4)',\n",
       "  'J. K. Rowling',\n",
       "  'http://images.amazon.com/images/P/0439139597.01.MZZZZZZZ.jpg'],\n",
       " [\"Harry Potter and the Sorcerer's Stone (Harry Potter (Paperback))\",\n",
       "  'J. K. Rowling',\n",
       "  'http://images.amazon.com/images/P/059035342X.01.MZZZZZZZ.jpg'],\n",
       " [\"Harry Potter and the Sorcerer's Stone (Book 1)\",\n",
       "  'J. K. Rowling',\n",
       "  'http://images.amazon.com/images/P/0590353403.01.MZZZZZZZ.jpg']]"
      ]
     },
     "execution_count": 195,
     "metadata": {},
     "output_type": "execute_result"
    }
   ],
   "source": [
    "recommend('Harry Potter and the Chamber of Secrets (Book 2)')"
   ]
  },
  {
   "cell_type": "code",
   "execution_count": null,
   "id": "90eef265-2fc4-452a-8252-ef85e85d26d2",
   "metadata": {},
   "outputs": [],
   "source": []
  }
 ],
 "metadata": {
  "kernelspec": {
   "display_name": "Python 3 (ipykernel)",
   "language": "python",
   "name": "python3"
  },
  "language_info": {
   "codemirror_mode": {
    "name": "ipython",
    "version": 3
   },
   "file_extension": ".py",
   "mimetype": "text/x-python",
   "name": "python",
   "nbconvert_exporter": "python",
   "pygments_lexer": "ipython3",
   "version": "3.12.4"
  }
 },
 "nbformat": 4,
 "nbformat_minor": 5
}
